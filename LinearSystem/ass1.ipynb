{
 "cells": [
  {
   "cell_type": "code",
   "execution_count": 3,
   "metadata": {
    "collapsed": true,
    "ExecuteTime": {
     "end_time": "2023-05-27T09:13:08.053227300Z",
     "start_time": "2023-05-27T09:13:04.888934800Z"
    }
   },
   "outputs": [],
   "source": [
    "import numpy as np\n",
    "import scipy as sp\n",
    "import matplotlib.pyplot as plt\n",
    "import cv2"
   ]
  },
  {
   "cell_type": "markdown",
   "source": [
    "## Question2: NumPy Warm-up"
   ],
   "metadata": {
    "collapsed": false
   }
  },
  {
   "cell_type": "markdown",
   "source": [
    "#### 1. Choose a few different one-dimensional Gaussian functions (by choosing different mean and variance values), plot them."
   ],
   "metadata": {
    "collapsed": false
   }
  },
  {
   "cell_type": "code",
   "execution_count": 4,
   "outputs": [],
   "source": [
    "# plot one-dimensional Gaussian probability distribution function\n",
    "def plot_gaussian_pdf(mu, sigma):\n",
    "    x = np.linspace(mu - 3*sigma, mu + 3*sigma, 100)\n",
    "    y = np.exp(-(x - mu)**2/(2*sigma**2))/(sigma*np.sqrt(2*np.pi))\n",
    "    plt.plot(x, y)\n",
    "    plt.show()\n",
    "# choosing different mean and variance values, plot them\n",
    "# plot_gaussian_pdf(0, 1)\n",
    "# plot_gaussian_pdf(0, 2)\n",
    "# plot_gaussian_pdf(0, 3)\n",
    "# plot_gaussian_pdf(1, 1)\n",
    "# plot_gaussian_pdf(1, 2)\n",
    "# plot_gaussian_pdf(1, 3)"
   ],
   "metadata": {
    "collapsed": false,
    "ExecuteTime": {
     "end_time": "2023-05-27T09:13:08.078881700Z",
     "start_time": "2023-05-27T09:13:08.060233500Z"
    }
   }
  },
  {
   "cell_type": "markdown",
   "source": [
    "#### 2. Verify the above identity for each Gaussian function."
   ],
   "metadata": {
    "collapsed": false
   }
  },
  {
   "cell_type": "code",
   "execution_count": 5,
   "outputs": [
    {
     "name": "stdout",
     "output_type": "stream",
     "text": [
      "0.9972920676269242\n",
      "0.9972920676269242\n",
      "0.997292067626924\n",
      "0.9972920676269241\n",
      "0.9972920676269242\n",
      "0.997292067626924\n"
     ]
    }
   ],
   "source": [
    "# Verify the identity ∫ G(x)dx = 1 for each Gaussian function\n",
    "def gaussian_integral(mu, sigma):\n",
    "    x = np.linspace(mu - 3*sigma, mu + 3*sigma, 100)\n",
    "    y = np.exp(-(x - mu)**2/(2*sigma**2))/(sigma*np.sqrt(2*np.pi))\n",
    "    return np.trapz(y, x)\n",
    "print(gaussian_integral(0, 1))\n",
    "print(gaussian_integral(0, 2))\n",
    "print(gaussian_integral(0, 3))\n",
    "print(gaussian_integral(1, 1))\n",
    "print(gaussian_integral(1, 2))\n",
    "print(gaussian_integral(1, 3))"
   ],
   "metadata": {
    "collapsed": false,
    "ExecuteTime": {
     "end_time": "2023-05-27T09:13:08.100447100Z",
     "start_time": "2023-05-27T09:13:08.083576700Z"
    }
   }
  },
  {
   "cell_type": "markdown",
   "source": [
    "## Question3: Numerics and Linear Algebra"
   ],
   "metadata": {
    "collapsed": false
   }
  },
  {
   "cell_type": "markdown",
   "source": [
    "#### 1. Use an LU solve to estimate the monomial coefficients $\\vec{c}$. Report the residual L2 norm for both linear systems when N = 8 and N = 16."
   ],
   "metadata": {
    "collapsed": false
   }
  },
  {
   "cell_type": "code",
   "execution_count": 6,
   "outputs": [
    {
     "name": "stdout",
     "output_type": "stream",
     "text": [
      "(2.220446049250313e-16, 3.8459253727671276e-16)\n",
      "(1.2560739669470201e-15, 1.1430445635548515e-15)\n"
     ]
    }
   ],
   "source": [
    "# construct a n*n vandermonde matrix\n",
    "def vandermonde_matrix(n):\n",
    "    x = np.linspace(0, 1, n + 1)[:-1]\n",
    "    return np.vander(x, n, increasing=True)\n",
    "# construct a n*n finite Fourier Series basis matrix\n",
    "# Fi,j−1 =\n",
    "# {\n",
    "#   sin (jπx_i), if 1 ≤ j ≤ N/2\n",
    "#   cos ((j − N/2)πx_i), N/2 + 1 ≤ j ≤ N\n",
    "# }\n",
    "def fourier_basis_matrix(n):\n",
    "    x = np.linspace(0, 1, n + 1)[:-1]\n",
    "    y = np.zeros((n, n))\n",
    "    for i in range(n):\n",
    "        for j in range(n):\n",
    "            if j + 1 <= n/2:\n",
    "                y[i][j] = np.sin((j + 1) * np.pi * x[i])\n",
    "            else:\n",
    "                y[i][j] = np.cos((j + 1 - n/2) * np.pi * x[i])\n",
    "    return y\n",
    "# print (vandermonde_matrix(8))\n",
    "# print (fourier_basis_matrix(8))\n",
    "# Use an LU solve (scipy.linalg.lu from SciPy package) to estimate the monomial coefficients. Report the residual L2 norm for both linear systems when N = 8 and N = 16.\n",
    "def monomial_coefficients(n):\n",
    "    # f(x) = 1 / (1 + x^2)\n",
    "    x = np.linspace(0, 1, n + 1)[:-1]\n",
    "    y = 1 / (1 + x**2)\n",
    "\n",
    "    # use LU solve to estimate the monomial coefficients\n",
    "    vm = vandermonde_matrix(n)\n",
    "    fm = fourier_basis_matrix(n)\n",
    "    vm_lu = sp.linalg.lu_factor(vm)\n",
    "    fm_lu = sp.linalg.lu_factor(fm)\n",
    "    vm_x = sp.linalg.lu_solve(vm_lu, y)\n",
    "    fm_x = sp.linalg.lu_solve(fm_lu, y)\n",
    "    # print(\"monomial coefficients when N = \" + str(n) + \":\")\n",
    "    # print(\"vandermonde matrix: \" + str(vm_x))\n",
    "    # print(\"fourier basis matrix: \" + str(fm_x))\n",
    "    vm_y = np.dot(vm, vm_x)\n",
    "    fm_y = np.dot(fm, fm_x)\n",
    "    vm_r = np.linalg.norm(vm_y - y)\n",
    "    fm_r = np.linalg.norm(fm_y - y)\n",
    "    return vm_r, fm_r\n",
    "print(monomial_coefficients(8))\n",
    "print(monomial_coefficients(16))"
   ],
   "metadata": {
    "collapsed": false,
    "ExecuteTime": {
     "end_time": "2023-05-27T09:13:09.703786600Z",
     "start_time": "2023-05-27T09:13:08.100447100Z"
    }
   }
  },
  {
   "cell_type": "markdown",
   "source": [
    "#### 2. Plot $N$ vs. $cond( V )$ and $N$ vs. $cond(F)$ for N = 4, 6, 8, ...32."
   ],
   "metadata": {
    "collapsed": false
   }
  },
  {
   "cell_type": "code",
   "execution_count": 11,
   "outputs": [
    {
     "name": "stdout",
     "output_type": "stream",
     "text": [
      "[163.42742324166863, 8215.649919892317, 450050.0666487678, 25681357.137469992, 1500717461.2546258, 89069186916.48735, 5344580147535.864, 323245758981552.2, 1.9496127860001332e+16, 1.620597993853218e+18, 1.786397875883056e+19, 6.358601189998436e+18, 8.239713325560794e+19, 7.556656808563421e+18, 4.5887143780777574e+18]\n",
      "[5.02733949212585, 31.635891538074045, 236.58740928194547, 1918.313054823126, 16306.251662479055, 143030.8296855278, 1283150.6173285618, 11708033.664982196, 108251959.76479125, 1011580282.6936167, 9535670909.254139, 90545276003.46182, 865095433988.6373, 8309046218664.75, 80487025496112.38]\n"
     ]
    },
    {
     "data": {
      "text/plain": "<Figure size 640x480 with 1 Axes>",
      "image/png": "[encoded data removed]"
     },
     "metadata": {},
     "output_type": "display_data"
    }
   ],
   "source": [
    "def plot_condition_number():\n",
    "    x = np.linspace(4, 32, 15)\n",
    "    y1 = []\n",
    "    y2 = []\n",
    "    for i in range(15):\n",
    "        y1.append(np.linalg.cond(vandermonde_matrix(int(x[i]))))\n",
    "        y2.append(np.linalg.cond(fourier_basis_matrix(int(x[i]))))\n",
    "    print(y1)\n",
    "    print(y2)\n",
    "    plt.plot(x, y1, label='Vandermonde')\n",
    "    plt.plot(x, y2, label='Fourier')\n",
    "    plt.xticks(x)\n",
    "    plt.legend()\n",
    "    plt.show()\n",
    "plot_condition_number()"
   ],
   "metadata": {
    "collapsed": false,
    "ExecuteTime": {
     "end_time": "2023-05-27T09:21:33.202595300Z",
     "start_time": "2023-05-27T09:21:33.026439100Z"
    }
   }
  },
  {
   "cell_type": "markdown",
   "source": [
    "##### explain the reasons for the trends in these two plots\n",
    "As N increases, the condition number of Vandermonde matrix increases, and the condition number of Fourier basis matrix decreases. The reason is that the Vandermonde matrix is ill-conditioned, and the Fourier basis matrix is well-conditioned."
   ],
   "metadata": {
    "collapsed": false
   }
  },
  {
   "cell_type": "markdown",
   "source": [
    "#### 3. Construct $A_V = V^T V$ and $A_F = F^T F$ for $N$ = 4, 6, . . . 32, and judge whether they are positive definite or not."
   ],
   "metadata": {
    "collapsed": false
   }
  },
  {
   "cell_type": "code",
   "execution_count": 12,
   "outputs": [
    {
     "name": "stdout",
     "output_type": "stream",
     "text": [
      "N = 4:(True, True)\n",
      "N = 6:(True, True)\n",
      "N = 8:(True, True)\n",
      "N = 10:(True, True)\n",
      "N = 12:(True, True)\n",
      "N = 14:(False, True)\n",
      "N = 16:(False, True)\n",
      "N = 18:(False, True)\n",
      "N = 20:(False, True)\n",
      "N = 22:(False, False)\n",
      "N = 24:(False, True)\n",
      "N = 26:(False, False)\n",
      "N = 28:(False, False)\n",
      "N = 30:(False, False)\n",
      "N = 32:(False, False)\n"
     ]
    }
   ],
   "source": [
    "def is_positive_definite(n):\n",
    "    vm = vandermonde_matrix(n)\n",
    "    fm = fourier_basis_matrix(n)\n",
    "    vm_t = np.transpose(vm)\n",
    "    fm_t = np.transpose(fm)\n",
    "    vm_a = np.dot(vm_t, vm)\n",
    "    fm_a = np.dot(fm_t, fm)\n",
    "    vm_r = np.all(np.linalg.eigvals(vm_a) > 0)\n",
    "    fm_r = np.all(np.linalg.eigvals(fm_a) > 0)\n",
    "    return vm_r, fm_r\n",
    "\n",
    "for i in range(4, 33, 2):\n",
    "    print(\"N = \" + str(i) + \":\" + str(is_positive_definite(i)))"
   ],
   "metadata": {
    "collapsed": false,
    "ExecuteTime": {
     "end_time": "2023-05-27T09:36:27.000187100Z",
     "start_time": "2023-05-27T09:36:26.969577100Z"
    }
   }
  },
  {
   "cell_type": "markdown",
   "source": [
    "##### A table of values that includes the following columns: $N, isposdef(A_V ), isposdef(A_F ), cond(V ), cond(F)$\n",
    "\n",
    "| N  | isposdef(A_V) | isposdef(A_F) | cond(V)  | cond(F)  |\n",
    "|----|---------------|---------------|----------|----------|\n",
    "| 4  | True          | True          | 163.4    | 5.027    |\n",
    "| 6  | True          | True          | 8.215e3  | 31.64    |\n",
    "| 8  | True          | True          | 4.5e5    | 236.6    |\n",
    "| 10 | True          | True          | 2.568e7  | 1.918e3  |\n",
    "| 12 | True          | True          | 1.5e9    | 1.631e4  |\n",
    "| 14 | False         | True          | 8.906e10 | 1.43e5   |\n",
    "| 16 | False         | True          | 5.345e12 | 1.283e6  |\n",
    "| 18 | False         | True          | 3.232e14 | 1.171e7  |\n",
    "| 20 | False         | True          | 1.95e16  | 1.083e8  |\n",
    "| 22 | False         | False         | 1.621e18 | 1.012e9  |\n",
    "| 24 | False         | True          | 1.786e19 | 9.536e9  |\n",
    "| 26 | False         | False         | 6.359e18 | 9.055e10 |\n",
    "| 28 | False         | False         | 8.24e19  | 8.651e11 |\n",
    "| 30 | False         | False         | 7.557e18 | 8.309e12 |\n",
    "| 32 | False         | False         | 4.589e18 | 8.049e13 |\n",
    "\n",
    "##### Explain the reasons for the trends in the table\n",
    "\n",
    "The largest value of $N$ where $A_V$ is positive definite: 12, the condition number of that $V$ : 1.5e9\n",
    "The largest value of $N$ where $A_F$ is positive definite: 24, the condition number of that $F$ : 9.536e9\n",
    "These condition numbers connected to the positive definiteness of the matrices. The larger the condition number, the more ill-conditioned the matrix is, and the more likely it is to be not positive definite. This is because the condition number is the ratio of the largest to the smallest singular value of the matrix. The larger the condition number, the more the matrix amplifies the error in the solution.\n"
   ],
   "metadata": {
    "collapsed": false
   }
  },
  {
   "cell_type": "markdown",
   "source": [
    "#### 4. For N = 8, transform the linear systems above into symmetric positive definite systems according to Question 3.3, and use Cholesky factorization to solve them. Report the residual L2 norm for each solution."
   ],
   "metadata": {
    "collapsed": false
   }
  },
  {
   "cell_type": "markdown",
   "source": [],
   "metadata": {
    "collapsed": false
   }
  },
  {
   "cell_type": "code",
   "execution_count": 15,
   "outputs": [
    {
     "name": "stdout",
     "output_type": "stream",
     "text": [
      "(2.0202326468819256e-11, 2.0806242997996403e-14)\n"
     ]
    }
   ],
   "source": [
    "# transform the linear systems into symmetric positive definite systems and use Cholesky factorization to solve them\n",
    "def cholesky_factorization(n):\n",
    "    # f(x) = 1 / (1 + x^2)\n",
    "    x = np.linspace(0, 1, n + 1)[:-1]\n",
    "    y = 1 / (1 + x**2)\n",
    "\n",
    "    vm = vandermonde_matrix(n)\n",
    "    fm = fourier_basis_matrix(n)\n",
    "    vm_t = np.transpose(vm)\n",
    "    fm_t = np.transpose(fm)\n",
    "    vm_a = np.dot(vm_t, vm)\n",
    "    fm_a = np.dot(fm_t, fm)\n",
    "    vm_b = np.dot(vm_t, y)\n",
    "    fm_b = np.dot(fm_t, y)\n",
    "    vm_c = sp.linalg.cho_factor(vm_a)\n",
    "    fm_c = sp.linalg.cho_factor(fm_a)\n",
    "    vm_x = sp.linalg.cho_solve(vm_c, vm_b)\n",
    "    fm_x = sp.linalg.cho_solve(fm_c, fm_b)\n",
    "    vm_y = np.dot(vm, vm_x)\n",
    "    fm_y = np.dot(fm, fm_x)\n",
    "    vm_r = np.linalg.norm(vm_y - y)\n",
    "    fm_r = np.linalg.norm(fm_y - y)\n",
    "    return vm_r, fm_r\n",
    "print(cholesky_factorization(8))"
   ],
   "metadata": {
    "collapsed": false,
    "ExecuteTime": {
     "end_time": "2023-05-27T09:53:55.640220900Z",
     "start_time": "2023-05-27T09:53:55.625011800Z"
    }
   }
  },
  {
   "cell_type": "markdown",
   "source": [
    "##### Compare the residuals to Question 3.1: how does Cholesky compare to LU?\n",
    "The residual of Cholesky is bigger than LU. The reason is that the condition number of the Vandermonde matrix is very large, and the Cholesky factorization is not stable for ill-conditioned matrices."
   ],
   "metadata": {
    "collapsed": false
   }
  },
  {
   "cell_type": "markdown",
   "source": [
    "## Least Squares Problems and QR"
   ],
   "metadata": {
    "collapsed": false
   }
  },
  {
   "cell_type": "markdown",
   "source": [
    "#### 1. Solve the least square system with QR decomposition when M = 16, N = 4, 8."
   ],
   "metadata": {
    "collapsed": false
   }
  },
  {
   "cell_type": "code",
   "execution_count": 25,
   "outputs": [
    {
     "name": "stdout",
     "output_type": "stream",
     "text": [
      "[ 0.58215047 -1.06220587 -0.01392258  1.00103892]\n",
      "[ 1.21467707 -0.11785824  0.35830956  0.48758784]\n",
      "(0.00408323826729538, 0.30230113370126455)\n",
      "[-3.12130078e-02  4.78868165e-01 -1.49113519e+00  1.69087565e+00\n",
      " -1.65663052e-01 -9.80828040e-01 -8.07368955e-04  1.00000139e+00]\n",
      "[ 1.33778075 -0.1950913  -0.31748875  0.02996036  0.38439885  0.78902919\n",
      " -0.10683444 -0.06818281]\n",
      "(1.341856782350059e-05, 0.008863804298810679)\n"
     ]
    }
   ],
   "source": [
    "# construct a m*n vandermonde matrix\n",
    "def vandermonde_matrix_mn(m,n):\n",
    "    x = np.linspace(0, 1, m + 1)[:-1]\n",
    "    return np.vander(x, n)\n",
    "def fourier_basis_matrix_mn(m, n):\n",
    "    x = np.linspace(0, 1, m + 1)[:-1]\n",
    "    y = np.zeros((m, n))\n",
    "    for i in range(m):\n",
    "        for j in range(n):\n",
    "            if j + 1 <= n/2:\n",
    "                y[i][j] = np.sin((j + 1) * np.pi * x[i])\n",
    "            else:\n",
    "                y[i][j] = np.cos((j + 1 - n/2) * np.pi * x[i])\n",
    "    return y\n",
    "# solve the least square system with QR decomposition by minimizing the 2-norm of the residual\n",
    "def least_squares_qr(m, n):\n",
    "    x = np.linspace(0, 1, m + 1)[:-1]\n",
    "    y = 1 / (1 + x**2)\n",
    "    vm = vandermonde_matrix_mn(m, n)\n",
    "    fm = fourier_basis_matrix_mn(m, n)\n",
    "    vm_q, vm_r = np.linalg.qr(vm)\n",
    "    fm_q, fm_r = np.linalg.qr(fm)\n",
    "    vm_qt = np.transpose(vm_q)\n",
    "    fm_qt = np.transpose(fm_q)\n",
    "    vm_b = np.dot(vm_qt, y)\n",
    "    fm_b = np.dot(fm_qt, y)\n",
    "    vm_x = sp.linalg.solve_triangular(vm_r, vm_b)\n",
    "    fm_x = sp.linalg.solve_triangular(fm_r, fm_b)\n",
    "    print(vm_x)\n",
    "    print(fm_x)\n",
    "    vm_y = np.dot(vm, vm_x)\n",
    "    fm_y = np.dot(fm, fm_x)\n",
    "    vm_r = np.linalg.norm(vm_y - y)\n",
    "    fm_r = np.linalg.norm(fm_y - y)\n",
    "    return vm_r, fm_r\n",
    "print(least_squares_qr(16, 4))\n",
    "print(least_squares_qr(16, 8))"
   ],
   "metadata": {
    "collapsed": false,
    "ExecuteTime": {
     "end_time": "2023-05-27T12:06:46.143005900Z",
     "start_time": "2023-05-27T12:06:46.034646Z"
    }
   }
  },
  {
   "cell_type": "markdown",
   "source": [
    "#### 2. Plot the $g_V$ , $g_F$ when M = 16, N = 4, 8, compare them with the analytical function f(x) and the interpolation function obtained in Question 3.1."
   ],
   "metadata": {
    "collapsed": false
   }
  },
  {
   "cell_type": "code",
   "execution_count": 30,
   "outputs": [
    {
     "data": {
      "text/plain": "<Figure size 640x480 with 1 Axes>",
      "image/png": "[encoded data removed]"
     },
     "metadata": {},
     "output_type": "display_data"
    },
    {
     "data": {
      "text/plain": "<Figure size 640x480 with 1 Axes>",
      "image/png": "[encoded data removed]"
     },
     "metadata": {},
     "output_type": "display_data"
    }
   ],
   "source": [
    "# plot the g_V and g_F when M = 16, N = 4, 8\n",
    "def plot_least_squares_qr(m, n):\n",
    "    x = np.linspace(0, 1, m + 1)[:-1]\n",
    "    y = 1 / (1 + x**2)\n",
    "    vm = vandermonde_matrix_mn(m, n)\n",
    "    fm = fourier_basis_matrix_mn(m, n)\n",
    "\n",
    "    # solve the least square system with QR decomposition by minimizing the 2-norm of the residual\n",
    "    vm_q, vm_r = np.linalg.qr(vm)\n",
    "    fm_q, fm_r = np.linalg.qr(fm)\n",
    "    vm_qt = np.transpose(vm_q)\n",
    "    fm_qt = np.transpose(fm_q)\n",
    "    vm_b = np.dot(vm_qt, y)\n",
    "    fm_b = np.dot(fm_qt, y)\n",
    "    vm_x = sp.linalg.solve_triangular(vm_r, vm_b)\n",
    "    fm_x = sp.linalg.solve_triangular(fm_r, fm_b)\n",
    "    vm_y = np.dot(vm, vm_x)\n",
    "    fm_y = np.dot(fm, fm_x)\n",
    "    plt.plot(x, y, 'o', label='f(x)')\n",
    "    plt.plot(x, vm_y, 'o', label='gV(x)_QR')\n",
    "    plt.plot(x, fm_y, 'o', label='gF(x)_QR')\n",
    "\n",
    "    # solve the least square system with LU decomposition by minimizing the 2-norm of the residual\n",
    "    x = np.linspace(0, 1, m + 1)[:-1]\n",
    "    y = 1 / (1 + x**2)\n",
    "    vm = vandermonde_matrix(m)\n",
    "    fm = fourier_basis_matrix(m)\n",
    "    vm_lu = sp.linalg.lu_factor(vm)\n",
    "    fm_lu = sp.linalg.lu_factor(fm)\n",
    "    vm_x = sp.linalg.lu_solve(vm_lu, y)\n",
    "    fm_x = sp.linalg.lu_solve(fm_lu, y)\n",
    "    vm_y = np.dot(vm, vm_x)\n",
    "    fm_y = np.dot(fm, fm_x)\n",
    "    plt.plot(x, vm_y, 'o', label='gV(x)_LU')\n",
    "    plt.plot(x, fm_y, 'o', label='gF(x)_LU')\n",
    "    plt.legend()\n",
    "    plt.title('Least Squares with QR and LU decomposition' + ' M = ' + str(m) + ' N = ' + str(n))\n",
    "    plt.show()\n",
    "plot_least_squares_qr(16, 4)\n",
    "plot_least_squares_qr(16, 8)"
   ],
   "metadata": {
    "collapsed": false,
    "ExecuteTime": {
     "end_time": "2023-05-27T12:24:55.192324700Z",
     "start_time": "2023-05-27T12:24:54.124882800Z"
    }
   }
  }
 ],
 "metadata": {
  "kernelspec": {
   "display_name": "Python 3",
   "language": "python",
   "name": "python3"
  },
  "language_info": {
   "codemirror_mode": {
    "name": "ipython",
    "version": 2
   },
   "file_extension": ".py",
   "mimetype": "text/x-python",
   "name": "python",
   "nbconvert_exporter": "python",
   "pygments_lexer": "ipython2",
   "version": "2.7.6"
  }
 },
 "nbformat": 4,
 "nbformat_minor": 0
}
